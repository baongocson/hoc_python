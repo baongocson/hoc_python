{
 "cells": [
  {
   "cell_type": "markdown",
   "metadata": {},
   "source": [
    "# Pandas: \n",
    "\n",
    "+ xử lý và phân tích dữ liệu một cách dễ dàng\n",
    "\n",
    "    + `Series` Cấu trúc dữ liệu 1 chiều, có thể chứa các giá trị bất kỳ (chuỗi, số, boolean, v.v.) và có chỉ số (index)\n",
    " \n",
    "    + `DataFrame` Cấu trúc dữ liệu 2 chiều, giống như bảng trong cơ sở dữ liệu, với các dòng (rows) và cột (columns). Là cấu trúc dữ liệu chính để làm việc với dữ liệu dạng bảng\n",
    "\n",
    "    + `Index` Là lớp đặc biệt trong Pandas để đánh dấu vị trí của các phần tử trong mảng hoặc bảng"
   ]
  },
  {
   "cell_type": "markdown",
   "metadata": {},
   "source": [
    "#### Một số hàm hữu ích:\n",
    "\n",
    "+ `df.sort_values()`: Sắp xếp theo giá trị của một cột.\n",
    "\n",
    "+ `df.apply()`: Áp dụng hàm cho mỗi phần tử trong DataFrame.\n",
    "\n",
    "+ ` df.pivot_table()`: Tạo bảng pivot từ dữ liệu\n",
    "\n",
    "#### Pandas có thể đọc và ghi ra dữ liệu từ các file csv, excel "
   ]
  },
  {
   "cell_type": "markdown",
   "metadata": {},
   "source": []
  },
  {
   "cell_type": "code",
   "execution_count": 102,
   "metadata": {},
   "outputs": [
    {
     "name": "stdout",
     "output_type": "stream",
     "text": [
      "0    1\n",
      "1    2\n",
      "2    3\n",
      "3    4\n",
      "4    5\n",
      "dtype: int64\n",
      "a    10\n",
      "b    20\n",
      "c    30\n",
      "dtype: int64\n"
     ]
    },
    {
     "data": {
      "text/plain": [
       "' \\nchỉ  phần\\nsố   tử\\n0    1\\n1    2\\n2    3\\n3    4\\n4    5\\ndtype: int64\\na    10\\nb    20\\nc    30\\ndtype: int64\\n'"
      ]
     },
     "execution_count": 102,
     "metadata": {},
     "output_type": "execute_result"
    }
   ],
   "source": [
    "import pandas as pd\n",
    "\n",
    "# Tạo Series từ list\n",
    "s = pd.Series([1, 2, 3, 4, 5])\n",
    "print(s)\n",
    "\n",
    "# Tạo Series với chỉ số tùy chỉnh\n",
    "s_custom_index = pd.Series([10, 20, 30], index=['a', 'b', 'c'])\n",
    "print(s_custom_index)\n",
    "\"\"\" \n",
    "chỉ  phần\n",
    "số   tử\n",
    "0    1\n",
    "1    2\n",
    "2    3\n",
    "3    4\n",
    "4    5\n",
    "dtype: int64\n",
    "a    10\n",
    "b    20\n",
    "c    30\n",
    "dtype: int64\n",
    "\"\"\"\n"
   ]
  },
  {
   "cell_type": "code",
   "execution_count": 103,
   "metadata": {},
   "outputs": [
    {
     "name": "stdout",
     "output_type": "stream",
     "text": [
      "     Tên  Tuổi\n",
      "0     An    20\n",
      "1   Bình    25\n",
      "2  Cường    30\n",
      "     Tên  Tuổi\n",
      "0     An    20\n",
      "1   Bình    25\n",
      "2  Cường    30\n"
     ]
    }
   ],
   "source": [
    "# Tạo DataFrame từ dic\n",
    "data = {\n",
    "    'Tên': ['An', 'Bình', 'Cường'],\n",
    "    'Tuổi': [20, 25, 30]\n",
    "}\n",
    "df = pd.DataFrame(data)\n",
    "print(df)\n",
    "\n",
    "# Tạo DataFrame từ các list\n",
    "data2 = [['An', 20], ['Bình', 25], ['Cường', 30]]\n",
    "df2 = pd.DataFrame(data2, columns=['Tên', 'Tuổi'])\n",
    "print(df2)\n"
   ]
  },
  {
   "cell_type": "code",
   "execution_count": 104,
   "metadata": {},
   "outputs": [
    {
     "name": "stdout",
     "output_type": "stream",
     "text": [
      "     Tên  Tuổi\n",
      "0    Sơn    20\n",
      "1   Bình    25\n",
      "2   Toàn    30\n",
      "3   Linh    19\n",
      "4  Dương    24\n",
      "5     An    32\n",
      "6     Vũ    12\n",
      "7  Thuận    26\n",
      "8  Trình    38\n"
     ]
    }
   ],
   "source": [
    "data = {\n",
    "    'Tên': ['Sơn', 'Bình', 'Toàn', 'Linh', 'Dương', 'An', 'Vũ', 'Thuận', 'Trình'],\n",
    "    'Tuổi': [20, 25, 30, 19, 24, 32, 12, 26, 38]\n",
    "}\n",
    "df = pd.DataFrame(data)\n",
    "\n",
    "print(df)"
   ]
  },
  {
   "cell_type": "code",
   "execution_count": 105,
   "metadata": {},
   "outputs": [
    {
     "name": "stdout",
     "output_type": "stream",
     "text": [
      "     Tên  Tuổi\n",
      "0    Sơn    20\n",
      "1   Bình    25\n",
      "2   Toàn    30\n",
      "3   Linh    19\n",
      "4  Dương    24\n"
     ]
    }
   ],
   "source": [
    "# Xem 5 dòng đầu tiên\n",
    "print(df.head())"
   ]
  },
  {
   "cell_type": "code",
   "execution_count": 106,
   "metadata": {},
   "outputs": [
    {
     "name": "stdout",
     "output_type": "stream",
     "text": [
      "     Tên  Tuổi\n",
      "4  Dương    24\n",
      "5     An    32\n",
      "6     Vũ    12\n",
      "7  Thuận    26\n",
      "8  Trình    38\n"
     ]
    }
   ],
   "source": [
    "# Xem 5 dòng cuối\n",
    "print(df.tail())"
   ]
  },
  {
   "cell_type": "code",
   "execution_count": 107,
   "metadata": {},
   "outputs": [
    {
     "name": "stdout",
     "output_type": "stream",
     "text": [
      "<class 'pandas.core.frame.DataFrame'>\n",
      "RangeIndex: 9 entries, 0 to 8\n",
      "Data columns (total 2 columns):\n",
      " #   Column  Non-Null Count  Dtype \n",
      "---  ------  --------------  ----- \n",
      " 0   Tên     9 non-null      object\n",
      " 1   Tuổi    9 non-null      int64 \n",
      "dtypes: int64(1), object(1)\n",
      "memory usage: 276.0+ bytes\n",
      "None\n"
     ]
    }
   ],
   "source": [
    "# Xem thông tin chi tiết \n",
    "print(df.info())"
   ]
  },
  {
   "cell_type": "markdown",
   "metadata": {},
   "source": [
    "+ `<class 'pandas.core.frame.DataFrame'>`: Thông báo rằng đối tượng này là một DataFrame trong Pandas.\n",
    "+ `RangeIndex: 9 entries, 0 to 8`: DataFrame có 9 dòng (entries), chỉ số của các dòng là từ 0 đến 8.\n",
    "+ `Data columns (total 2 columns):`: DataFrame có 2 cột: Tên và Tuổi.\n",
    "+ Thông tin về từng cột:\n",
    "    + Cột Tên: Có 9 giá trị không bị thiếu (non-null), và kiểu dữ liệu là object (chuỗi).\n",
    "    + Cột Tuổi: Cũng có 9 giá trị không bị thiếu, và kiểu dữ liệu là int64 (số nguyên 64-bit).\n",
    "+ `dtypes`: int64(1), object(1): DataFrame có 1 cột có kiểu dữ liệu là int64 (cột Tuổi) và 1 cột có kiểu dữ liệu là object (cột Tên).\n",
    "+ `memory usage`: 180.0+ bytes: Sử dụng khoảng 180 byte bộ nhớ để lưu trữ DataFrame này"
   ]
  },
  {
   "cell_type": "code",
   "execution_count": 108,
   "metadata": {},
   "outputs": [
    {
     "name": "stdout",
     "output_type": "stream",
     "text": [
      "            Tuổi\n",
      "count   9.000000\n",
      "mean   25.111111\n",
      "std     7.704616\n",
      "min    12.000000\n",
      "25%    20.000000\n",
      "50%    25.000000\n",
      "75%    30.000000\n",
      "max    38.000000\n"
     ]
    }
   ],
   "source": [
    "# Tóm tắt các số liệu thống kê\n",
    "print(df.describe())"
   ]
  },
  {
   "cell_type": "markdown",
   "metadata": {},
   "source": [
    "+ `std` độ lệch chuẩn\n",
    "+ `25%, 50%, 70%` giá trị của cột tuổi nhỏ hơn hoặc bằng 20, 25, 30 lần lượt 15% 50% 70%"
   ]
  },
  {
   "cell_type": "code",
   "execution_count": 109,
   "metadata": {},
   "outputs": [
    {
     "name": "stdout",
     "output_type": "stream",
     "text": [
      "0      Sơn\n",
      "1     Bình\n",
      "2     Toàn\n",
      "3     Linh\n",
      "4    Dương\n",
      "5       An\n",
      "6       Vũ\n",
      "7    Thuận\n",
      "8    Trình\n",
      "Name: Tên, dtype: object\n"
     ]
    }
   ],
   "source": [
    "\"\"\"\n",
    "     Tên  Tuổi\n",
    "0    Sơn    20\n",
    "1   Bình    25\n",
    "2   Toàn    30\n",
    "3   Linh    19\n",
    "4  Dương    24\n",
    "5     An    32\n",
    "6     Vũ    12\n",
    "7  Thuận    26\n",
    "8  Trình    38\n",
    "\"\"\"\n",
    "print(df['Tên'])  # Truy cập cột 'Tên'"
   ]
  },
  {
   "cell_type": "code",
   "execution_count": 110,
   "metadata": {},
   "outputs": [
    {
     "name": "stdout",
     "output_type": "stream",
     "text": [
      "0    20\n",
      "1    25\n",
      "2    30\n",
      "3    19\n",
      "4    24\n",
      "5    32\n",
      "6    12\n",
      "7    26\n",
      "8    38\n",
      "Name: Tuổi, dtype: int64\n"
     ]
    }
   ],
   "source": [
    "print(df.Tuổi)    # Truy cập cột 'Tuổi' (nếu không có dấu cách)"
   ]
  },
  {
   "cell_type": "code",
   "execution_count": 111,
   "metadata": {},
   "outputs": [
    {
     "name": "stdout",
     "output_type": "stream",
     "text": [
      "Tên     Dương\n",
      "Tuổi       24\n",
      "Name: 4, dtype: object\n"
     ]
    }
   ],
   "source": [
    "# Truy cập dòng theo chỉ số tên\n",
    "print(df.loc[4])  # Dòng có chỉ số 4"
   ]
  },
  {
   "cell_type": "code",
   "execution_count": 112,
   "metadata": {},
   "outputs": [
    {
     "name": "stdout",
     "output_type": "stream",
     "text": [
      "Tên     Dương\n",
      "Tuổi       24\n",
      "Name: 4, dtype: object\n"
     ]
    }
   ],
   "source": [
    "# Truy cập dòng theo chỉ số vị trí\n",
    "print(df.iloc[4])  # Dòng thứ 5 (vị trí 4)"
   ]
  },
  {
   "cell_type": "code",
   "execution_count": 113,
   "metadata": {},
   "outputs": [
    {
     "name": "stdout",
     "output_type": "stream",
     "text": [
      "     Tên  Tuổi  Điểm\n",
      "0    Sơn    20     9\n",
      "1   Bình    25     8\n",
      "2   Toàn    30     7\n",
      "3   Linh    19     2\n",
      "4  Dương    24     3\n",
      "5     An    32     4\n",
      "6     Vũ    12     8\n",
      "7  Thuận    26     4\n",
      "8  Trình    38     3\n"
     ]
    }
   ],
   "source": [
    "# Thêm cột\n",
    "df['Điểm'] = [9, 8, 7, 2, 3, 4, 8, 4, 3]\n",
    "print(df)"
   ]
  },
  {
   "cell_type": "code",
   "execution_count": 114,
   "metadata": {},
   "outputs": [
    {
     "name": "stdout",
     "output_type": "stream",
     "text": [
      "     Tên  Tuổi  Điểm\n",
      "0    Sơn    20    10\n",
      "1   Bình    25     9\n",
      "2   Toàn    30     8\n",
      "3   Linh    19     3\n",
      "4  Dương    24     4\n",
      "5     An    32     5\n",
      "6     Vũ    12     9\n",
      "7  Thuận    26     5\n",
      "8  Trình    38     4\n"
     ]
    }
   ],
   "source": [
    "# Sửa cột điểm\n",
    "df['Điểm'] = df['Điểm'] + 1\n",
    "print(df)"
   ]
  },
  {
   "cell_type": "markdown",
   "metadata": {},
   "source": [
    "+ `pd.concat()` để kết hợp df và new_row. Hàm này sẽ nối DataFrames lại với nhau\n",
    "+ Dùng `new_row.to_frame()` để chuyển Series thành DataFrame\n",
    "+ `.T `(transpose) được sử dụng để đảm bảo rằng dòng mới được thêm vào đúng cách, vì `.to_frame()` sẽ tạo ra một DataFrame theo cột, không phải theo dòng"
   ]
  },
  {
   "cell_type": "code",
   "execution_count": 115,
   "metadata": {},
   "outputs": [
    {
     "name": "stdout",
     "output_type": "stream",
     "text": [
      "     Tên Tuổi Điểm\n",
      "0    Sơn   20   10\n",
      "1   Bình   25    9\n",
      "2   Toàn   30    8\n",
      "3   Linh   19    3\n",
      "4  Dương   24    4\n",
      "5     An   32    5\n",
      "6     Vũ   12    9\n",
      "7  Thuận   26    5\n",
      "8  Trình   38    4\n",
      "9  Hoàng   26    7\n"
     ]
    },
    {
     "data": {
      "text/plain": [
       "'      Tên  Tuổi  Điểm      \\n0     Sơn  20.0  10.0    NaN\\n1    Bình  25.0   9.0    NaN\\n2    Toàn  30.0   8.0    NaN\\n3    Linh  19.0   3.0    NaN\\n4   Dương  24.0   4.0    NaN\\n5      An  32.0   5.0    NaN\\n6      Vũ  12.0   9.0    NaN\\n7   Thuận  26.0   5.0    NaN\\n8   Trình  38.0   4.0    NaN\\n9     NaN   NaN   NaN  Hoàng\\n10    NaN   NaN   NaN     26\\n11    NaN   NaN   NaN      7\\n'"
      ]
     },
     "execution_count": 115,
     "metadata": {},
     "output_type": "execute_result"
    }
   ],
   "source": [
    "new_row = pd.Series(['Hoàng', 26, 7], index=['Tên', 'Tuổi', 'Điểm'])\n",
    "df = pd.concat([df, new_row.to_frame().T], ignore_index=True)\n",
    "print(df)\n",
    "\n",
    "#không .T\n",
    "\"\"\"      Tên  Tuổi  Điểm      \n",
    "0     Sơn  20.0  10.0    NaN\n",
    "1    Bình  25.0   9.0    NaN\n",
    "2    Toàn  30.0   8.0    NaN\n",
    "3    Linh  19.0   3.0    NaN\n",
    "4   Dương  24.0   4.0    NaN\n",
    "5      An  32.0   5.0    NaN\n",
    "6      Vũ  12.0   9.0    NaN\n",
    "7   Thuận  26.0   5.0    NaN\n",
    "8   Trình  38.0   4.0    NaN\n",
    "9     NaN   NaN   NaN  Hoàng\n",
    "10    NaN   NaN   NaN     26\n",
    "11    NaN   NaN   NaN      7\n",
    "\"\"\"\n"
   ]
  },
  {
   "cell_type": "markdown",
   "metadata": {},
   "source": [
    "+ `df.drop( )` Xóa\n",
    "+ `axis = 0` xóa dòng \n",
    "+ `axis = 1` xóa cột"
   ]
  },
  {
   "cell_type": "code",
   "execution_count": 116,
   "metadata": {},
   "outputs": [
    {
     "name": "stdout",
     "output_type": "stream",
     "text": [
      "     Tên Tuổi Điểm\n",
      "0    Sơn   20   10\n",
      "1   Bình   25    9\n",
      "3   Linh   19    3\n",
      "4  Dương   24    4\n",
      "5     An   32    5\n",
      "6     Vũ   12    9\n",
      "7  Thuận   26    5\n",
      "8  Trình   38    4\n",
      "9  Hoàng   26    7\n"
     ]
    }
   ],
   "source": [
    "df = df.drop(2, axis=0)  # Xóa dòng có chỉ số 2\n",
    "print(df)"
   ]
  },
  {
   "cell_type": "code",
   "execution_count": 117,
   "metadata": {},
   "outputs": [
    {
     "name": "stdout",
     "output_type": "stream",
     "text": [
      "     Tên Tuổi Điểm\n",
      "1   Bình   25    9\n",
      "4  Dương   24    4\n",
      "5     An   32    5\n",
      "7  Thuận   26    5\n",
      "8  Trình   38    4\n",
      "9  Hoàng   26    7\n"
     ]
    }
   ],
   "source": [
    "# Lọc các dòng có tuổi lớn hơn 20\n",
    "filtered_df = df[df['Tuổi'] > 20]\n",
    "print(filtered_df)"
   ]
  },
  {
   "cell_type": "code",
   "execution_count": 118,
   "metadata": {},
   "outputs": [
    {
     "name": "stdout",
     "output_type": "stream",
     "text": [
      "      Tên Tuổi Điểm      0\n",
      "0     Sơn   20   10    NaN\n",
      "1    Bình   25    9    NaN\n",
      "2    Linh   19    3    NaN\n",
      "3   Dương   24    4    NaN\n",
      "4      An   32    5    NaN\n",
      "5      Vũ   12    9    NaN\n",
      "6   Thuận   26    5    NaN\n",
      "7   Trình   38    4    NaN\n",
      "8   Hoàng   26    7    NaN\n",
      "9     NaN  NaN  NaN  Thanh\n",
      "10    NaN  NaN  NaN     25\n",
      "11    NaN  NaN  NaN      4\n"
     ]
    }
   ],
   "source": [
    "NaN = pd.Series(['Thanh', 25, 4], index=['Tên', 'Tuổi', 'Điểm'])\n",
    "df = pd.concat([df, NaN.to_frame()], ignore_index=True)\n",
    "print(df)"
   ]
  },
  {
   "cell_type": "code",
   "execution_count": 119,
   "metadata": {},
   "outputs": [
    {
     "name": "stdout",
     "output_type": "stream",
     "text": [
      "      Tên   Tuổi   Điểm      0\n",
      "0   False  False  False   True\n",
      "1   False  False  False   True\n",
      "2   False  False  False   True\n",
      "3   False  False  False   True\n",
      "4   False  False  False   True\n",
      "5   False  False  False   True\n",
      "6   False  False  False   True\n",
      "7   False  False  False   True\n",
      "8   False  False  False   True\n",
      "9    True   True   True  False\n",
      "10   True   True   True  False\n",
      "11   True   True   True  False\n"
     ]
    }
   ],
   "source": [
    "print(df.isna())  # Kiểm tra các giá trị NaN"
   ]
  },
  {
   "cell_type": "code",
   "execution_count": 120,
   "metadata": {},
   "outputs": [
    {
     "name": "stderr",
     "output_type": "stream",
     "text": [
      "C:\\Users\\LAPTOP\\AppData\\Local\\Temp\\ipykernel_4900\\1103689361.py:1: FutureWarning: Downcasting object dtype arrays on .fillna, .ffill, .bfill is deprecated and will change in a future version. Call result.infer_objects(copy=False) instead. To opt-in to the future behavior, set `pd.set_option('future.no_silent_downcasting', True)`\n",
      "  df['Điểm'].fillna(0)  # Thay thế NaN cột điểm bằng 0\n"
     ]
    },
    {
     "data": {
      "text/plain": [
       "0     10\n",
       "1      9\n",
       "2      3\n",
       "3      4\n",
       "4      5\n",
       "5      9\n",
       "6      5\n",
       "7      4\n",
       "8      7\n",
       "9      0\n",
       "10     0\n",
       "11     0\n",
       "Name: Điểm, dtype: int64"
      ]
     },
     "execution_count": 120,
     "metadata": {},
     "output_type": "execute_result"
    }
   ],
   "source": [
    "df['Điểm'].fillna(0)  # Thay thế NaN cột điểm bằng 0"
   ]
  },
  {
   "cell_type": "code",
   "execution_count": 121,
   "metadata": {},
   "outputs": [
    {
     "name": "stdout",
     "output_type": "stream",
     "text": [
      "      Tên Tuổi Điểm      0\n",
      "0     Sơn   20   10    NaN\n",
      "1    Bình   25    9    NaN\n",
      "2    Linh   19    3    NaN\n",
      "3   Dương   24    4    NaN\n",
      "4      An   32    5    NaN\n",
      "5      Vũ   12    9    NaN\n",
      "6   Thuận   26    5    NaN\n",
      "7   Trình   38    4    NaN\n",
      "8   Hoàng   26    7    NaN\n",
      "9     NaN  NaN  NaN  Thanh\n",
      "10    NaN  NaN  NaN     25\n",
      "11    NaN  NaN  NaN      4\n"
     ]
    }
   ],
   "source": [
    "print(df)\n"
   ]
  },
  {
   "cell_type": "code",
   "execution_count": 122,
   "metadata": {},
   "outputs": [
    {
     "data": {
      "text/html": [
       "<div>\n",
       "<style scoped>\n",
       "    .dataframe tbody tr th:only-of-type {\n",
       "        vertical-align: middle;\n",
       "    }\n",
       "\n",
       "    .dataframe tbody tr th {\n",
       "        vertical-align: top;\n",
       "    }\n",
       "\n",
       "    .dataframe thead th {\n",
       "        text-align: right;\n",
       "    }\n",
       "</style>\n",
       "<table border=\"1\" class=\"dataframe\">\n",
       "  <thead>\n",
       "    <tr style=\"text-align: right;\">\n",
       "      <th></th>\n",
       "      <th>Tên</th>\n",
       "      <th>Tuổi</th>\n",
       "      <th>Điểm</th>\n",
       "      <th>0</th>\n",
       "    </tr>\n",
       "  </thead>\n",
       "  <tbody>\n",
       "  </tbody>\n",
       "</table>\n",
       "</div>"
      ],
      "text/plain": [
       "Empty DataFrame\n",
       "Columns: [Tên, Tuổi, Điểm, 0]\n",
       "Index: []"
      ]
     },
     "execution_count": 122,
     "metadata": {},
     "output_type": "execute_result"
    }
   ],
   "source": [
    "df.dropna()  # Xóa dòng có NaN\n"
   ]
  },
  {
   "cell_type": "code",
   "execution_count": 123,
   "metadata": {},
   "outputs": [],
   "source": [
    "# Giả sử chúng ta có hai DataFrame:\n",
    "df1 = pd.DataFrame({'ID': [1, 2, 3], 'Tên': ['An', 'Bình', 'Cường']})\n",
    "df2 = pd.DataFrame({'ID': [2, 3, 4], 'Điểm': [8, 9, 7]})"
   ]
  },
  {
   "cell_type": "markdown",
   "metadata": {},
   "source": [
    "+ `on = 'ID'`: chỉ định key là ID\n",
    "+ các loại kết hợp how\n",
    "   + `how='inner'`: Giữ lại chỉ các dòng có giá trị 'ID' trùng nhau trong cả hai DataFrame.\n",
    "   + `how='left'`: Giữ lại tất cả dòng từ df1 và chỉ kết hợp các giá trị từ df2 nếu 'ID' có trong df2. Các giá trị không có trong df2 sẽ được điền là NaN.\n",
    "   + `how='right'`: Giữ lại tất cả dòng từ df2 và chỉ kết hợp các giá trị từ df1 nếu 'ID' có trong df1. Các giá trị không có trong df1 sẽ được điền là NaN.\n",
    "   + `how='outer'`: Giữ lại tất cả các dòng từ cả hai DataFrame. Nếu một dòng không có mặt trong một DataFrame, các giá trị sẽ được điền là NaN"
   ]
  },
  {
   "cell_type": "code",
   "execution_count": 124,
   "metadata": {},
   "outputs": [
    {
     "name": "stdout",
     "output_type": "stream",
     "text": [
      "   ID    Tên  Điểm\n",
      "0   2   Bình     8\n",
      "1   3  Cường     9\n"
     ]
    }
   ],
   "source": [
    "merged_df = pd.merge(df1, df2, on='ID', how='inner')\n",
    "print(merged_df)"
   ]
  },
  {
   "cell_type": "code",
   "execution_count": 125,
   "metadata": {},
   "outputs": [
    {
     "name": "stdout",
     "output_type": "stream",
     "text": [
      "   ID    Tên  Điểm\n",
      "0   1     An   NaN\n",
      "1   2   Bình   8.0\n",
      "2   3  Cường   9.0\n",
      "3   4    NaN   7.0\n"
     ]
    }
   ],
   "source": [
    "merged_df = pd.merge(df1, df2, on='ID', how='outer')\n",
    "print(merged_df)"
   ]
  },
  {
   "cell_type": "code",
   "execution_count": 126,
   "metadata": {},
   "outputs": [
    {
     "name": "stdout",
     "output_type": "stream",
     "text": [
      "   ID    Tên  Điểm\n",
      "0   1     An   NaN\n",
      "1   2   Bình   NaN\n",
      "2   3  Cường   NaN\n",
      "0   2    NaN   8.0\n",
      "1   3    NaN   9.0\n",
      "2   4    NaN   7.0\n"
     ]
    }
   ],
   "source": [
    "df3 = pd.concat([df1, df2], axis=0)  # Hợp nhất theo chiều dọc (dòng)\n",
    "print(df3)"
   ]
  },
  {
   "cell_type": "code",
   "execution_count": 127,
   "metadata": {},
   "outputs": [
    {
     "name": "stdout",
     "output_type": "stream",
     "text": [
      "   ID    Tên  ID  Điểm\n",
      "0   1     An   2     8\n",
      "1   2   Bình   3     9\n",
      "2   3  Cường   4     7\n"
     ]
    }
   ],
   "source": [
    "df4 = pd.concat([df1, df2], axis=1)  # Hợp nhất theo chiều ngang (cột)\n",
    "print(df4)"
   ]
  },
  {
   "cell_type": "code",
   "execution_count": null,
   "metadata": {},
   "outputs": [],
   "source": []
  }
 ],
 "metadata": {
  "kernelspec": {
   "display_name": "Python 3",
   "language": "python",
   "name": "python3"
  },
  "language_info": {
   "codemirror_mode": {
    "name": "ipython",
    "version": 3
   },
   "file_extension": ".py",
   "mimetype": "text/x-python",
   "name": "python",
   "nbconvert_exporter": "python",
   "pygments_lexer": "ipython3",
   "version": "3.13.0"
  }
 },
 "nbformat": 4,
 "nbformat_minor": 2
}

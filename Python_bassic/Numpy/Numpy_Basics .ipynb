{
 "cells": [
  {
   "cell_type": "markdown",
   "metadata": {},
   "source": [
    "# numpy: làm việc với mảng\n",
    "+ khi tạo mạng đa chiều ( 2 chiều, 3 chiều ...) các phần tử trong từng mảng con phải có số lượng đồng nhất như nhau\n",
    "+ khi tạo mảng có nhiều kiểu dữ liệu khác nhau, numpy sẽ chuyển tất cả về 1 kiểu dữ liệu để đảm bảo tính đồng nhât"
   ]
  },
  {
   "cell_type": "markdown",
   "metadata": {},
   "source": [
    "+ `np.random.rand(x, y)`: mảng với các giá trị ngẫu nhiên, x hàng y cột -> output la các giá trị từ 0.0 đến 1.0"
   ]
  },
  {
   "cell_type": "code",
   "execution_count": 19,
   "metadata": {},
   "outputs": [
    {
     "name": "stdout",
     "output_type": "stream",
     "text": [
      "[[0. 0. 0.]\n",
      " [0. 0. 0.]]\n",
      "[[1. 1. 1.]\n",
      " [1. 1. 1.]\n",
      " [1. 1. 1.]]\n",
      "[[0.48492861 0.65888623 0.50239902 0.60829713]\n",
      " [0.44693439 0.350174   0.3115799  0.94635328]\n",
      " [0.10885053 0.60831241 0.68846533 0.44144272]]\n"
     ]
    }
   ],
   "source": [
    "import numpy as np \n",
    "\n",
    "#Mảng toàn số 0\n",
    "zeros = np.zeros((2, 3))\n",
    "print(zeros)\n",
    "\n",
    "# Mảng toàn số 1\n",
    "ones = np.ones((3, 3))\n",
    "print(ones)\n",
    "\n",
    "# Mảng với các giá trị ngẫu nhiên\n",
    "random = np.random.rand(3, 4)\n",
    "print(random)\n"
   ]
  },
  {
   "cell_type": "markdown",
   "metadata": {},
   "source": [
    "+ `np.linspace(start, stop, num)`: tạo phần tử trong khoảng từ start đến stop với số phần tử là num"
   ]
  },
  {
   "cell_type": "code",
   "execution_count": 17,
   "metadata": {},
   "outputs": [
    {
     "name": "stdout",
     "output_type": "stream",
     "text": [
      "[0 2 4 6 8]\n",
      "[ 0.   2.5  5.   7.5 10. ]\n"
     ]
    }
   ],
   "source": [
    "# Tạo mảng từ 0 đến 10 với khoảng cách 2\n",
    "arange = np.arange(0, 10, 2) \n",
    "print(arange)\n",
    "\n",
    "# Tạo mảng với số lượng phần tử cho trước\n",
    "linspace = np.linspace(0, 10, 5)  \n",
    "print(linspace)"
   ]
  },
  {
   "cell_type": "markdown",
   "metadata": {},
   "source": [
    "+ `ndim` xem mảng đó là mảng mấy chiều\n",
    "+ `shape` kích thước của mảng đó -> ouput: (x, y) trong đó x là số hàng, y là số cột\n",
    "+ `sizw` tổng số các phần tử có trong mảng"
   ]
  },
  {
   "cell_type": "code",
   "execution_count": 18,
   "metadata": {},
   "outputs": [
    {
     "name": "stdout",
     "output_type": "stream",
     "text": [
      "2\n",
      "(2, 3)\n",
      "6\n"
     ]
    }
   ],
   "source": [
    "arr = np.array([[1, 2, 3], [4, 5, 6]])\n",
    "print(arr.ndim)  \n",
    "print(arr.shape) \n",
    "print(arr.size) \n"
   ]
  },
  {
   "cell_type": "markdown",
   "metadata": {},
   "source": [
    "+ có thể dùng chỉ mục trong numpy tương tự list"
   ]
  },
  {
   "cell_type": "code",
   "execution_count": 20,
   "metadata": {},
   "outputs": [
    {
     "name": "stdout",
     "output_type": "stream",
     "text": [
      "6\n",
      "[[ 1  2  3]\n",
      " [ 4  5 10]]\n"
     ]
    }
   ],
   "source": [
    "arr = np.array([[1, 2, 3], [4, 5, 6]])\n",
    "print(arr[1, 2]) \n",
    "\n",
    "arr[1, 2] = 10\n",
    "print(arr) "
   ]
  },
  {
   "cell_type": "markdown",
   "metadata": {},
   "source": [
    "+ numpy có thể dùng các toán tử + - * / ...."
   ]
  },
  {
   "cell_type": "code",
   "execution_count": 22,
   "metadata": {},
   "outputs": [
    {
     "name": "stdout",
     "output_type": "stream",
     "text": [
      "[5 7 9]\n",
      "[ 4 10 18]\n",
      "[0 0 0]\n"
     ]
    }
   ],
   "source": [
    "arr1 = np.array([1, 2, 3])\n",
    "arr2 = np.array([4, 5, 6])\n",
    "\n",
    "print(arr1 + arr2) \n",
    "\n",
    "print(arr1 * arr2) \n",
    "\n",
    "print(arr1 // arr2)"
   ]
  },
  {
   "cell_type": "markdown",
   "metadata": {},
   "source": [
    "+ hàm"
   ]
  },
  {
   "cell_type": "code",
   "execution_count": 23,
   "metadata": {},
   "outputs": [
    {
     "name": "stdout",
     "output_type": "stream",
     "text": [
      "1\n",
      "5\n",
      "15\n",
      "3.0\n"
     ]
    }
   ],
   "source": [
    "arr = np.array([1, 2, 3, 4, 5])\n",
    "print(arr.min())  \n",
    "print(arr.max())  \n",
    "print(arr.sum()) \n",
    "print(arr.mean()) \n"
   ]
  },
  {
   "cell_type": "markdown",
   "metadata": {},
   "source": [
    "+ `reshape` tách mảng"
   ]
  },
  {
   "cell_type": "code",
   "execution_count": 25,
   "metadata": {},
   "outputs": [
    {
     "name": "stdout",
     "output_type": "stream",
     "text": [
      "[[1 2 3]\n",
      " [4 5 6]]\n"
     ]
    }
   ],
   "source": [
    "arr = np.array([1, 2, 3, 4, 5, 6])\n",
    "reshaped = arr.reshape((2, 3)) \n",
    "print( reshaped )"
   ]
  },
  {
   "cell_type": "markdown",
   "metadata": {},
   "source": [
    "+ `flatten` gộp mảng"
   ]
  },
  {
   "cell_type": "code",
   "execution_count": 26,
   "metadata": {},
   "outputs": [
    {
     "name": "stdout",
     "output_type": "stream",
     "text": [
      "[1 2 3 4 5 6]\n"
     ]
    }
   ],
   "source": [
    "arr = np.array([[1, 2, 3], [4, 5, 6]])\n",
    "flat = arr.flatten()  \n",
    "print(flat)"
   ]
  },
  {
   "cell_type": "code",
   "execution_count": null,
   "metadata": {},
   "outputs": [],
   "source": []
  }
 ],
 "metadata": {
  "kernelspec": {
   "display_name": "Python 3",
   "language": "python",
   "name": "python3"
  },
  "language_info": {
   "codemirror_mode": {
    "name": "ipython",
    "version": 3
   },
   "file_extension": ".py",
   "mimetype": "text/x-python",
   "name": "python",
   "nbconvert_exporter": "python",
   "pygments_lexer": "ipython3",
   "version": "3.13.0"
  }
 },
 "nbformat": 4,
 "nbformat_minor": 2
}

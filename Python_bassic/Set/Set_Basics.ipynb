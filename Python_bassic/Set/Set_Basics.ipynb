{
 "cells": [
  {
   "cell_type": "markdown",
   "metadata": {},
   "source": [
    "# set{ }"
   ]
  },
  {
   "cell_type": "markdown",
   "metadata": {},
   "source": [
    "+ set được tạo bởi cặp dấu ngoặc nhọn {}, ko thể chứa những phần tử trùng lặp\n",
    "\n",
    "+ set ko có thứ tự nên không thể truy cập vào chỉ số/ vị trí của các giá trị\n",
    "\n",
    "+ set được sử dụng khi so sánh 2 hay nhiều tập hợp có điểm chung\n",
    "\n",
    "+ set dùng để check những dòng trùng ở các file vì nó nhanh hơn"
   ]
  },
  {
   "cell_type": "markdown",
   "metadata": {},
   "source": [
    "1. Tạo set"
   ]
  },
  {
   "cell_type": "code",
   "execution_count": 1,
   "metadata": {},
   "outputs": [
    {
     "name": "stdout",
     "output_type": "stream",
     "text": [
      "{1, 2, 3, 4}\n",
      "{1, 2, 3, 4}\n"
     ]
    }
   ],
   "source": [
    "# Cách 1: Dùng dấu ngoặc nhọn {}\n",
    "my_set = {1, 2, 3, 4}\n",
    "print(my_set)\n",
    "\n",
    "# Cách 2: Dùng hàm set()\n",
    "my_set = set([1, 2, 3, 4])\n",
    "print(my_set)"
   ]
  },
  {
   "cell_type": "code",
   "execution_count": 2,
   "metadata": {},
   "outputs": [
    {
     "name": "stdout",
     "output_type": "stream",
     "text": [
      "{1, 2, 3, 4, 5}\n"
     ]
    }
   ],
   "source": [
    "my_set.add(5)  # Thêm phần tử vào set\n",
    "print(my_set)  "
   ]
  },
  {
   "cell_type": "markdown",
   "metadata": {},
   "source": [
    "+ `remove()` sẽ xóa phần tử, nhưng nếu phần tử không tồn tại sẽ gây lỗi\n",
    "\n",
    "+ `discard() `sẽ xóa phần tử nếu có, nhưng không gây lỗi nếu phần tử không tồn tại"
   ]
  },
  {
   "cell_type": "code",
   "execution_count": 3,
   "metadata": {},
   "outputs": [
    {
     "name": "stdout",
     "output_type": "stream",
     "text": [
      "{1, 3, 4, 5}\n",
      "{1, 4, 5}\n"
     ]
    }
   ],
   "source": [
    "my_set.remove(2) # Xóa phần tử\n",
    "print(my_set)\n",
    "\n",
    "my_set.discard(3)\n",
    "print(my_set) \n",
    "\n",
    "my_set.discard(10)"
   ]
  },
  {
   "cell_type": "code",
   "execution_count": null,
   "metadata": {},
   "outputs": [
    {
     "name": "stdout",
     "output_type": "stream",
     "text": [
      "{1, 2, 3, 4, 5}\n"
     ]
    }
   ],
   "source": [
    "set1 = {1, 2, 3}\n",
    "set2 = {3, 4, 5}\n",
    "print(set1 | set2) # Kết hợp 2 set"
   ]
  },
  {
   "cell_type": "code",
   "execution_count": 5,
   "metadata": {},
   "outputs": [
    {
     "name": "stdout",
     "output_type": "stream",
     "text": [
      "{3}\n"
     ]
    }
   ],
   "source": [
    "print(set1 & set2)  # Giao/điểm chung"
   ]
  },
  {
   "cell_type": "code",
   "execution_count": 6,
   "metadata": {},
   "outputs": [
    {
     "name": "stdout",
     "output_type": "stream",
     "text": [
      "{1, 2}\n"
     ]
    }
   ],
   "source": [
    "print(set1 - set2)  "
   ]
  },
  {
   "cell_type": "code",
   "execution_count": 7,
   "metadata": {},
   "outputs": [
    {
     "name": "stdout",
     "output_type": "stream",
     "text": [
      "{1, 2, 4, 5}\n"
     ]
    }
   ],
   "source": [
    "print(set1 ^ set2) # !&"
   ]
  },
  {
   "cell_type": "markdown",
   "metadata": {},
   "source": [
    "+ Kiểm tra xem giá trị có trong set không, nếu có thì True, không thì false"
   ]
  },
  {
   "cell_type": "code",
   "execution_count": 8,
   "metadata": {},
   "outputs": [
    {
     "name": "stdout",
     "output_type": "stream",
     "text": [
      "True\n",
      "False\n"
     ]
    }
   ],
   "source": [
    "my_set = {1, 2, 3}\n",
    "print(2 in my_set)\n",
    "print(4 in my_set)"
   ]
  },
  {
   "cell_type": "markdown",
   "metadata": {},
   "source": [
    "+ Vòng lặp trong set"
   ]
  },
  {
   "cell_type": "code",
   "execution_count": 9,
   "metadata": {},
   "outputs": [
    {
     "name": "stdout",
     "output_type": "stream",
     "text": [
      "1\n",
      "2\n",
      "3\n",
      "4\n"
     ]
    }
   ],
   "source": [
    "my_set = {1, 2, 3, 4}\n",
    "for element in my_set:\n",
    "    print(element)"
   ]
  },
  {
   "cell_type": "code",
   "execution_count": 10,
   "metadata": {},
   "outputs": [
    {
     "name": "stdout",
     "output_type": "stream",
     "text": [
      "4\n"
     ]
    }
   ],
   "source": [
    "print(len(my_set))  # Lấy Số Phần tử trong my_set"
   ]
  },
  {
   "cell_type": "code",
   "execution_count": 12,
   "metadata": {},
   "outputs": [
    {
     "name": "stdout",
     "output_type": "stream",
     "text": [
      "set()\n"
     ]
    }
   ],
   "source": [
    "my_set.clear() # Xóa các phần tử trong my_set\n",
    "print(my_set)  # Trả về set rỗng"
   ]
  },
  {
   "cell_type": "markdown",
   "metadata": {},
   "source": [
    "+  add() chỉ thêm một phần tử duy nhất vào set\n",
    "+ update() có thể thêm nhiều phần tử và tự động loại bỏ trùng lặp nếu có"
   ]
  },
  {
   "cell_type": "code",
   "execution_count": 16,
   "metadata": {},
   "outputs": [
    {
     "name": "stdout",
     "output_type": "stream",
     "text": [
      "{1, 2, 3, 4, 5, 6}\n",
      "{1, 2, 3, 4, 5, 6, 7}\n"
     ]
    }
   ],
   "source": [
    "my_set = {1, 2, 3, 4}\n",
    "\n",
    "my_set.update([4, 5, 6]) # Thêm \n",
    "print(my_set)\n",
    "\n",
    "my_set.add(7)\n",
    "print(my_set)"
   ]
  },
  {
   "cell_type": "code",
   "execution_count": 18,
   "metadata": {},
   "outputs": [
    {
     "name": "stdout",
     "output_type": "stream",
     "text": [
      "{1, 2, 3}\n",
      "2210678017824 2210678019392\n"
     ]
    }
   ],
   "source": [
    "my_set = {1, 2, 3}\n",
    "new_set = my_set.copy() # sao chép và tạo ra một set\n",
    "print(new_set) \n",
    "print(id(my_set), id(new_set))"
   ]
  },
  {
   "cell_type": "markdown",
   "metadata": {},
   "source": [
    "+ `isdisjoint` kiểm tra giữa 2 set có phần tử chung không, nếu có thì True, sai thì False"
   ]
  },
  {
   "cell_type": "code",
   "execution_count": 19,
   "metadata": {},
   "outputs": [
    {
     "name": "stdout",
     "output_type": "stream",
     "text": [
      "True\n",
      "False\n"
     ]
    }
   ],
   "source": [
    "set1 = {1, 2, 3}\n",
    "set2 = {4, 5, 6}\n",
    "set3 = {3, 4, 5}\n",
    "\n",
    "print(set1.isdisjoint(set2))  \n",
    "print(set1.isdisjoint(set3)) "
   ]
  },
  {
   "cell_type": "markdown",
   "metadata": {},
   "source": [
    "+ `issubset()` kiểm tra xem set hiện tại có phải là một tập con của set khác hay không\n",
    "+ `issuperset()` kiểm tra xem set hiện tại có phải là một tập bao gồm tất cả các phần tử của set khác hay không"
   ]
  },
  {
   "cell_type": "code",
   "execution_count": 20,
   "metadata": {},
   "outputs": [
    {
     "name": "stdout",
     "output_type": "stream",
     "text": [
      "True\n",
      "True\n"
     ]
    }
   ],
   "source": [
    "set1 = {1, 2, 3}\n",
    "set2 = {1, 2, 3, 4, 5}\n",
    "\n",
    "print(set1.issubset(set2)) \n",
    "print(set2.issuperset(set1))  "
   ]
  },
  {
   "cell_type": "code",
   "execution_count": 21,
   "metadata": {},
   "outputs": [
    {
     "name": "stdout",
     "output_type": "stream",
     "text": [
      "1\n",
      "{2, 3}\n"
     ]
    }
   ],
   "source": [
    "my_set = {1, 2, 3}\n",
    "removed_element = my_set.pop() # Xóa ngẫu nhiên 1 phần tử trong set\n",
    "print(removed_element)  \n",
    "print(my_set) "
   ]
  },
  {
   "cell_type": "code",
   "execution_count": null,
   "metadata": {},
   "outputs": [],
   "source": []
  }
 ],
 "metadata": {
  "kernelspec": {
   "display_name": "Python 3",
   "language": "python",
   "name": "python3"
  },
  "language_info": {
   "codemirror_mode": {
    "name": "ipython",
    "version": 3
   },
   "file_extension": ".py",
   "mimetype": "text/x-python",
   "name": "python",
   "nbconvert_exporter": "python",
   "pygments_lexer": "ipython3",
   "version": "3.13.0"
  }
 },
 "nbformat": 4,
 "nbformat_minor": 2
}

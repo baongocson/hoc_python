{
 "cells": [
  {
   "cell_type": "markdown",
   "metadata": {},
   "source": [
    "# Class: lớp\n",
    " \n",
    " + class là 1 bản thiết kế, 1 khuôn mẫu để tập hợp các đối tượng có đặc tính tương tự nhau\n",
    "\n",
    "+ cấu trúc: \n",
    "     + class name_class:\n",
    "     \n",
    "           attributes\n",
    "           \n",
    "           methods\n",
    "\n",
    "## Object = Attributes + Methods\n",
    " "
   ]
  },
  {
   "cell_type": "markdown",
   "metadata": {},
   "source": [
    "## 4 nguyên tắc quan trọng nhất trong OOP:\n",
    "1. Inheritance\n",
    "   + tính kế thừa, mục đích là viết code gọn gàng hơn\n",
    "2. Polymorphism\n",
    "   + tính đa hình, viết code ngắn gọn và linh hoạt hơn\n",
    "3. Encapsulation\n",
    "   + tính đóng gói, bảo mật và ổn định cho dữ liệu\n",
    "4. Abstraction\n",
    "   + tính trừu tượng, "
   ]
  },
  {
   "cell_type": "markdown",
   "metadata": {},
   "source": [
    "+ `Attributes`: là những thuộc tính dùng để mô tả những thông tin và đặc điểm của objeck\n",
    "+ `Methods`: là phương thức dùng để mô tả các thao tác và hành động của objeck"
   ]
  },
  {
   "cell_type": "code",
   "execution_count": 12,
   "metadata": {},
   "outputs": [
    {
     "name": "stdout",
     "output_type": "stream",
     "text": [
      "tên: Huỳnh Trấn Thành, tuổi: 37, nghề nghiệp: MC\n",
      "Dao dien xuat sat nhat nam\n",
      "Nha Ba Nu\n",
      "tên: Jeff Bezos, tuổi: 60, nghề nghiệp: Doanh Nhân\n",
      "nguoi giau nhat the gioi\n",
      "213 ty USD\n"
     ]
    }
   ],
   "source": [
    "class celebrity:\n",
    "\n",
    "    def __init__(self, name, age, job):\n",
    "        self.name = name\n",
    "        self.age = age\n",
    "        self.job = job\n",
    "    \n",
    "class TranThanh(celebrity):\n",
    "\n",
    "    def Awardr(self):\n",
    "        print(\"Dao dien xuat sat nhat nam\")\n",
    "\n",
    "    def Best_movie(self):\n",
    "        print(\"Nha Ba Nu\")\n",
    "\n",
    "class JeffBezos(celebrity):\n",
    "\n",
    "    def Awaedr(seld):\n",
    "        print(\"nguoi giau nhat the gioi\")\n",
    "\n",
    "    def Asset(self):\n",
    "        print(\"213 ty USD\")\n",
    "\n",
    "\n",
    "tt = TranThanh(\"Huỳnh Trấn Thành\",37, \"MC\")\n",
    "print(f\"tên: {tt.name}, tuổi: {tt.age}, nghề nghiệp: {tt.job}\")\n",
    "tt.Awardr()\n",
    "tt.Best_movie()\n",
    "\n",
    "JB = JeffBezos(\"Jeff Bezos\", 60, \"Doanh Nhân\")\n",
    "print(f\"tên: {JB.name}, tuổi: {JB.age}, nghề nghiệp: {JB.job}\")\n",
    "JB.Awaedr()\n",
    "JB.Asset()     "
   ]
  },
  {
   "cell_type": "code",
   "execution_count": 19,
   "metadata": {},
   "outputs": [
    {
     "name": "stdout",
     "output_type": "stream",
     "text": [
      "Huỳnh Trấn Thành\n",
      "MC\n",
      "37\n"
     ]
    }
   ],
   "source": [
    "class celebrity:\n",
    "\n",
    "    def __init__(self, name, age, job):\n",
    "        self.name = name\n",
    "        self.__age = age # set private varible: không thể gọi từ bên ngoài \n",
    "        self.job = job\n",
    "\n",
    "    #để có thể gọi từ bên ngoài minnhf phải dùng hàm:\n",
    "    def getAppearance(self):\n",
    "        return self.__age\n",
    "    \n",
    "    def setAppearance(self, value):\n",
    "        self.__age = value\n",
    "    \n",
    "class TranThanh(celebrity):\n",
    "\n",
    "    def __init__(self, name, age, job):\n",
    "        super().__init__(name, age, job)\n",
    "     \n",
    "\n",
    "tt = TranThanh(\"Huỳnh Trấn Thành\", 37, \"MC\")\n",
    "\n",
    "print(tt.name)\n",
    "print(tt.job)\n",
    "print(tt.getAppearance())\n"
   ]
  },
  {
   "cell_type": "code",
   "execution_count": null,
   "metadata": {},
   "outputs": [],
   "source": []
  }
 ],
 "metadata": {
  "kernelspec": {
   "display_name": "Python 3",
   "language": "python",
   "name": "python3"
  },
  "language_info": {
   "codemirror_mode": {
    "name": "ipython",
    "version": 3
   },
   "file_extension": ".py",
   "mimetype": "text/x-python",
   "name": "python",
   "nbconvert_exporter": "python",
   "pygments_lexer": "ipython3",
   "version": "3.13.0"
  }
 },
 "nbformat": 4,
 "nbformat_minor": 2
}

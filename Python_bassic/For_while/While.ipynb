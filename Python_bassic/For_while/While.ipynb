{
 "cells": [
  {
   "cell_type": "markdown",
   "metadata": {},
   "source": [
    "# Vòng lặp while\n",
    "\n",
    "+ vòng lặp while sẽ chạy liên tục cho đến khi điều kiện sai thì nó mới dừng lại\n",
    "\n",
    "+ "
   ]
  },
  {
   "cell_type": "markdown",
   "metadata": {},
   "source": [
    "+ `condition`: Một biểu thức điều kiện. Nếu điều kiện này trả về True, vòng lặp sẽ tiếp tục thực hiện. Nếu điều kiện trả về False, vòng lặp sẽ kết thúc.\n",
    "+ `code to execute`: Đoạn mã sẽ được thực thi mỗi lần điều kiện đúng."
   ]
  },
  {
   "cell_type": "code",
   "execution_count": 3,
   "metadata": {},
   "outputs": [],
   "source": [
    "# while condition:\n",
    "    # code to execute"
   ]
  },
  {
   "cell_type": "code",
   "execution_count": 4,
   "metadata": {},
   "outputs": [
    {
     "name": "stdout",
     "output_type": "stream",
     "text": [
      "0\n",
      "1\n",
      "2\n",
      "3\n",
      "4\n"
     ]
    }
   ],
   "source": [
    "i = 0\n",
    "while i < 5: \n",
    "    print(i)\n",
    "    i += 1"
   ]
  },
  {
   "cell_type": "markdown",
   "metadata": {},
   "source": [
    "+ `break` dùng để thoát khỏi vòng lặp ngay lập tức, bất kể điều kiện có còn đúng hay không"
   ]
  },
  {
   "cell_type": "code",
   "execution_count": 5,
   "metadata": {},
   "outputs": [
    {
     "name": "stdout",
     "output_type": "stream",
     "text": [
      "0\n",
      "1\n",
      "2\n",
      "3\n",
      "4\n"
     ]
    }
   ],
   "source": [
    "i = 0\n",
    "while i < 10:\n",
    "    if i == 5:\n",
    "        break  # Thoát vòng lặp khi i == 5\n",
    "    print(i)\n",
    "    i += 1"
   ]
  },
  {
   "cell_type": "markdown",
   "metadata": {},
   "source": [
    "+ `continue` dùng để bỏ qua phần còn lại của vòng lặp và tiếp tục với vòng lặp tiếp theo, mà không thực hiện bất kỳ câu lệnh nào dưới nó"
   ]
  },
  {
   "cell_type": "code",
   "execution_count": 6,
   "metadata": {},
   "outputs": [
    {
     "name": "stdout",
     "output_type": "stream",
     "text": [
      "1\n",
      "2\n",
      "4\n",
      "5\n"
     ]
    }
   ],
   "source": [
    "i = 0\n",
    "while i < 5:\n",
    "    i += 1\n",
    "    if i == 3:\n",
    "        continue  # Bỏ qua khi i == 3\n",
    "    print(i)"
   ]
  },
  {
   "cell_type": "code",
   "execution_count": 7,
   "metadata": {},
   "outputs": [
    {
     "name": "stdout",
     "output_type": "stream",
     "text": [
      "0\n",
      "1\n",
      "2\n",
      "3\n",
      "4\n",
      "Vòng lặp hoàn thành.\n"
     ]
    }
   ],
   "source": [
    "i = 0\n",
    "while i < 5:\n",
    "    print(i)\n",
    "    i += 1\n",
    "else:\n",
    "    print(\"Vòng lặp hoàn thành.\")"
   ]
  },
  {
   "cell_type": "code",
   "execution_count": 9,
   "metadata": {},
   "outputs": [
    {
     "name": "stdout",
     "output_type": "stream",
     "text": [
      "0\n",
      "1\n",
      "2\n",
      "3\n",
      "4\n"
     ]
    }
   ],
   "source": [
    "i = 0\n",
    "while i < 10 and i != 5:\n",
    "    print(i)\n",
    "    i += 1"
   ]
  },
  {
   "cell_type": "code",
   "execution_count": 10,
   "metadata": {},
   "outputs": [
    {
     "name": "stdout",
     "output_type": "stream",
     "text": [
      "Bạn đã nhập số chẵn!\n"
     ]
    }
   ],
   "source": [
    "while True:\n",
    "    user_input = input(\"Nhập số chẵn: \")\n",
    "    if user_input.isdigit() and int(user_input) % 2 == 0:\n",
    "        print(\"Bạn đã nhập số chẵn!\")\n",
    "        break\n",
    "    else:\n",
    "        print(\"Vui lòng nhập một số chẵn hợp lệ.\")"
   ]
  },
  {
   "cell_type": "markdown",
   "metadata": {},
   "source": [
    "+  kết hợp vòng lặp while với câu lệnh `try-except` để xử lý ngoại lệ trong quá trình lặp"
   ]
  },
  {
   "cell_type": "code",
   "execution_count": 11,
   "metadata": {},
   "outputs": [
    {
     "name": "stdout",
     "output_type": "stream",
     "text": [
      "Số bạn nhập là 2\n"
     ]
    }
   ],
   "source": [
    "i = 0\n",
    "while i < 5:\n",
    "    try:\n",
    "        num = int(input(\"Nhập một số nguyên: \"))\n",
    "        print(f\"Số bạn nhập là {num}\")\n",
    "        break  # Thoát khi người dùng nhập một số hợp lệ\n",
    "    except ValueError:\n",
    "        print(\"Đó không phải là một số nguyên. Vui lòng thử lại.\")\n",
    "    i += 1"
   ]
  },
  {
   "cell_type": "code",
   "execution_count": null,
   "metadata": {},
   "outputs": [],
   "source": []
  }
 ],
 "metadata": {
  "kernelspec": {
   "display_name": "Python 3",
   "language": "python",
   "name": "python3"
  },
  "language_info": {
   "codemirror_mode": {
    "name": "ipython",
    "version": 3
   },
   "file_extension": ".py",
   "mimetype": "text/x-python",
   "name": "python",
   "nbconvert_exporter": "python",
   "pygments_lexer": "ipython3",
   "version": "3.13.0"
  }
 },
 "nbformat": 4,
 "nbformat_minor": 2
}

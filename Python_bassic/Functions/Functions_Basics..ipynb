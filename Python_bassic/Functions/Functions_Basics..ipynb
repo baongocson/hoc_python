{
 "cells": [
  {
   "cell_type": "markdown",
   "metadata": {},
   "source": [
    "# Hàm:\n",
    "\n",
    "+ Hàm được định nghĩa bằng từ khóa `def`, theo sau là tên hàm, danh sách tham số trong ngoặc tròn (), và sau đó là khối mã thực hiện nhiệm vụ của hàm"
   ]
  },
  {
   "cell_type": "code",
   "execution_count": 2,
   "metadata": {},
   "outputs": [],
   "source": [
    "def hi():\n",
    "    print(\"Hello, World!\")"
   ]
  },
  {
   "cell_type": "code",
   "execution_count": 4,
   "metadata": {},
   "outputs": [
    {
     "name": "stdout",
     "output_type": "stream",
     "text": [
      "Hello, World!\n"
     ]
    }
   ],
   "source": [
    "# Gọi hàm\n",
    "hi()"
   ]
  },
  {
   "cell_type": "markdown",
   "metadata": {},
   "source": [
    "### f-string"
   ]
  },
  {
   "cell_type": "code",
   "execution_count": 5,
   "metadata": {},
   "outputs": [
    {
     "name": "stdout",
     "output_type": "stream",
     "text": [
      "Hello, Sơn!\n"
     ]
    }
   ],
   "source": [
    "def hi(name):\n",
    "    print(f\"Hello, {name}!\")\n",
    "\n",
    "hi(\"Sơn\")"
   ]
  },
  {
   "cell_type": "markdown",
   "metadata": {},
   "source": [
    "+ Khi gặp return, hàm sẽ dừng và trả về giá trị ngay lập tức"
   ]
  },
  {
   "cell_type": "code",
   "execution_count": null,
   "metadata": {},
   "outputs": [
    {
     "name": "stdout",
     "output_type": "stream",
     "text": [
      "8\n"
     ]
    }
   ],
   "source": [
    "def add(a, b):\n",
    "    return a + b\n",
    "\n",
    "result = add(3, 5)\n",
    "print(result) "
   ]
  },
  {
   "cell_type": "code",
   "execution_count": 7,
   "metadata": {},
   "outputs": [
    {
     "name": "stdout",
     "output_type": "stream",
     "text": [
      "b is greater\n"
     ]
    }
   ],
   "source": [
    "def compare(a, b):\n",
    "    if a > b:\n",
    "        return \"a is greater\"\n",
    "    elif a < b:\n",
    "        return \"b is greater\"\n",
    "    else:\n",
    "        return \"a and b are equal\"\n",
    "\n",
    "print(compare(3, 5)) "
   ]
  },
  {
   "cell_type": "markdown",
   "metadata": {},
   "source": [
    "+ nếu không có return thì hàm sẽ trả về None"
   ]
  },
  {
   "cell_type": "code",
   "execution_count": null,
   "metadata": {},
   "outputs": [
    {
     "name": "stdout",
     "output_type": "stream",
     "text": [
      "Hello!\n",
      "None\n"
     ]
    }
   ],
   "source": [
    "def greet():\n",
    "    print(\"Hello!\")\n",
    "\n",
    "result = greet()\n",
    "print(result) "
   ]
  },
  {
   "cell_type": "markdown",
   "metadata": {},
   "source": [
    "+ Khi không biết trước số lượng đối số, sử dụng `*args` để nhận một tuple các đối số"
   ]
  },
  {
   "cell_type": "code",
   "execution_count": 9,
   "metadata": {},
   "outputs": [
    {
     "name": "stdout",
     "output_type": "stream",
     "text": [
      "6\n",
      "30\n"
     ]
    }
   ],
   "source": [
    "def add(*args):\n",
    "    return sum(args)\n",
    "\n",
    "print(add(1, 2, 3))         \n",
    "print(add(4, 5, 6, 7, 8))   "
   ]
  },
  {
   "cell_type": "markdown",
   "metadata": {},
   "source": [
    "+ `**kwargs` cho phép bạn truyền vào các đối số theo dạng key-value. kwargs nhận một dictionary chứa các cặp key-value"
   ]
  },
  {
   "cell_type": "code",
   "execution_count": 11,
   "metadata": {},
   "outputs": [
    {
     "name": "stdout",
     "output_type": "stream",
     "text": [
      "name: Sơn\n",
      "age: 21\n",
      "major: DS\n"
     ]
    }
   ],
   "source": [
    "def print_info(**kwargs):\n",
    "    for key, value in kwargs.items():\n",
    "        print(f\"{key}: {value}\")\n",
    "\n",
    "print_info(name=\"Sơn\", age=21, major=\"DS\")"
   ]
  },
  {
   "cell_type": "markdown",
   "metadata": {},
   "source": [
    "## Lambda"
   ]
  },
  {
   "cell_type": "markdown",
   "metadata": {},
   "source": [
    "+ `points_sorted = sorted(points, key=lambda point: point[1])`: trả về một danh sách mới sắp xếp của `points` bằng cách xếp `key=lambda point: point[1])` là y"
   ]
  },
  {
   "cell_type": "code",
   "execution_count": null,
   "metadata": {},
   "outputs": [
    {
     "name": "stdout",
     "output_type": "stream",
     "text": [
      "8\n",
      "[(5, -1), (3, 1), (1, 2)]\n"
     ]
    }
   ],
   "source": [
    "add = lambda x, y: x + y\n",
    "print(add(3, 5))\n",
    "\n",
    "# Lambda trong hàm `sorted`\n",
    "points = [(1, 2), (3, 1), (5, -1)]\n",
    "points_sorted = sorted(points, key=lambda point: point[1])\n",
    "print(points_sorted)"
   ]
  },
  {
   "cell_type": "markdown",
   "metadata": {},
   "source": [
    "+ khi tạo biến trong hàm thì nó chỉ có ở bên trong hàm đó, nếu gọi biến đó bên ngoài hàm thì sẽ lỗi "
   ]
  },
  {
   "cell_type": "code",
   "execution_count": 14,
   "metadata": {},
   "outputs": [
    {
     "name": "stdout",
     "output_type": "stream",
     "text": [
      "Hello, Sơn\n"
     ]
    }
   ],
   "source": [
    "def hi():\n",
    "    name = \"Sơn\"\n",
    "    print(\"Hello,\", name)\n",
    "\n",
    "hi()        \n",
    "# print(name)   # Lỗi: 'name' không tồn tại ngoài hàm hi"
   ]
  },
  {
   "cell_type": "markdown",
   "metadata": {},
   "source": [
    "### Hàm lồng nhau"
   ]
  },
  {
   "cell_type": "code",
   "execution_count": 15,
   "metadata": {},
   "outputs": [
    {
     "name": "stdout",
     "output_type": "stream",
     "text": [
      "This is inner function\n"
     ]
    }
   ],
   "source": [
    "def outer():\n",
    "    def inner():\n",
    "        print(\"This is inner function\")\n",
    "    inner()\n",
    "\n",
    "outer()"
   ]
  },
  {
   "cell_type": "markdown",
   "metadata": {},
   "source": [
    "## Đệ quy\n",
    "+ Hàm tự gọi Hàm"
   ]
  },
  {
   "cell_type": "code",
   "execution_count": 17,
   "metadata": {},
   "outputs": [
    {
     "data": {
      "text/plain": [
       "120"
      ]
     },
     "execution_count": 17,
     "metadata": {},
     "output_type": "execute_result"
    }
   ],
   "source": [
    "def factorial(n): #factorial: Giai thừa\n",
    "    if n == 0:\n",
    "        return 1\n",
    "    else:\n",
    "        return n * factorial(n - 1)\n",
    "factorial(5)"
   ]
  },
  {
   "cell_type": "markdown",
   "metadata": {},
   "source": [
    "+ Docstring là chuỗi mô tả cho hàm, thường viết ngay sau định nghĩa hàm. truy cập docstring bằng cách sử dụng __doc__"
   ]
  },
  {
   "cell_type": "code",
   "execution_count": 19,
   "metadata": {},
   "outputs": [
    {
     "name": "stdout",
     "output_type": "stream",
     "text": [
      "In ra lời chào với người dùng\n"
     ]
    }
   ],
   "source": [
    "def hi():\n",
    "    \"\"\"In ra lời chào với người dùng\"\"\"\n",
    "    print(\"Hello!\")\n",
    "\n",
    "print(hi.__doc__) "
   ]
  },
  {
   "cell_type": "markdown",
   "metadata": {},
   "source": [
    "+ `map()`: Áp dụng một hàm lên từng phần tử của iterable và trả về một iterable mới.\n",
    "+ `filter()`: Lọc các phần tử trong iterable dựa trên điều kiện của hàm.\n",
    "+ `reduce()`: Áp dụng hàm lên các phần tử của iterable, giảm chúng xuống một giá trị duy nhấ"
   ]
  },
  {
   "cell_type": "code",
   "execution_count": null,
   "metadata": {},
   "outputs": [
    {
     "name": "stdout",
     "output_type": "stream",
     "text": [
      "[1, 4, 9, 16]\n",
      "[2, 4]\n",
      "24\n"
     ]
    }
   ],
   "source": [
    "# map()\n",
    "nums = [1, 2, 3, 4]\n",
    "squared = map(lambda x: x*x, nums)\n",
    "print(list(squared)) \n",
    "\n",
    "# filter()\n",
    "evens = filter(lambda x: x % 2 == 0, nums)\n",
    "print(list(evens))\n",
    "\n",
    "# reduce()\n",
    "from functools import reduce\n",
    "product = reduce(lambda x, y: x * y, nums) #lambda x, y: x * y = 1 * 2 => 2 * 3 => 6 * 4 = 24\n",
    "print(product) "
   ]
  },
  {
   "cell_type": "markdown",
   "metadata": {},
   "source": [
    "### `global`: Sử dụng để thay đổi giá trị của biến toàn cục trong một hàm.\n",
    "### `nonlocal`: Sử dụng để thay đổi giá trị của biến trong phạm vi bao quanh hàm (hàm cha) khi làm việc với các hàm lồng nhau"
   ]
  },
  {
   "cell_type": "markdown",
   "metadata": {},
   "source": [
    "+ Biến x được khai báo toàn cục và có giá trị ban đầu là 10.\n",
    "+ Trong hàm change_x(), ta dùng từ khóa global để nói rằng biến x mà ta thay đổi chính là biến toàn cục (không phải tạo một biến mới cục bộ).\n",
    " Sau khi gọi hàm change_x(), giá trị của x toàn cục thay đổi thành 20"
   ]
  },
  {
   "cell_type": "code",
   "execution_count": null,
   "metadata": {},
   "outputs": [
    {
     "name": "stdout",
     "output_type": "stream",
     "text": [
      "20\n"
     ]
    }
   ],
   "source": [
    "x = 10  # Biến toàn cục\n",
    "\n",
    "def change_x():\n",
    "    global x\n",
    "    x = 20  # Thay đổi giá trị của biến toàn cục x\n",
    "\n",
    "change_x()\n",
    "print(x)  "
   ]
  },
  {
   "cell_type": "markdown",
   "metadata": {},
   "source": [
    "+ Biến x được khai báo trong hàm outer(), là một biến có phạm vi ngoài inner().\n",
    "+ Trong hàm inner(), ta sử dụng từ khóa nonlocal để thay đổi giá trị của x trong phạm vi của hàm cha (outer()), chứ không phải tạo một biến mới trong inner().\n",
    "+ Sau khi gọi inner(), giá trị của x trong outer() được thay đổi thành 20."
   ]
  },
  {
   "cell_type": "code",
   "execution_count": 22,
   "metadata": {},
   "outputs": [
    {
     "name": "stdout",
     "output_type": "stream",
     "text": [
      "20\n"
     ]
    }
   ],
   "source": [
    "def outer():\n",
    "    x = 10  # Biến trong hàm ngoài\n",
    "\n",
    "    def inner():\n",
    "        nonlocal x\n",
    "        x = 20  # Thay đổi giá trị của biến x trong hàm ngoài\n",
    "\n",
    "    inner()\n",
    "    print(x) \n",
    "\n",
    "outer()"
   ]
  },
  {
   "cell_type": "code",
   "execution_count": null,
   "metadata": {},
   "outputs": [],
   "source": []
  }
 ],
 "metadata": {
  "kernelspec": {
   "display_name": "Python 3",
   "language": "python",
   "name": "python3"
  },
  "language_info": {
   "codemirror_mode": {
    "name": "ipython",
    "version": 3
   },
   "file_extension": ".py",
   "mimetype": "text/x-python",
   "name": "python",
   "nbconvert_exporter": "python",
   "pygments_lexer": "ipython3",
   "version": "3.13.0"
  }
 },
 "nbformat": 4,
 "nbformat_minor": 2
}

{
 "cells": [
  {
   "cell_type": "markdown",
   "metadata": {},
   "source": [
    "# Dictionary\n",
    "+ lưu trữ bộ key: value\n",
    "+ Dict có thể thêm, sửa, xóa các phần tử trong dictionary, nhưng key phải là bất biến\n",
    "+ Key trong dictionary phải là bất biến, nghĩa là các kiểu dữ liệu như int, float, string, và tuple (nếu tuple đó chứa các phần tử bất biến) đều có thể làm key. list hoặc dict không thể làm key vì chúng là các kiểu dữ liệu có thể thay đổi"
   ]
  },
  {
   "cell_type": "markdown",
   "metadata": {},
   "source": [
    "+ Dictionary có thể được tạo bằng dấu ngoặc nhọn `{}` hoặc hàm `dict()`"
   ]
  },
  {
   "cell_type": "code",
   "execution_count": 16,
   "metadata": {},
   "outputs": [
    {
     "name": "stdout",
     "output_type": "stream",
     "text": [
      "{'name': 'Sơn', 'age': 17, 'university': 'GTVT TPHCM'}\n",
      "{'name': 'Hùng', 'age': 22, 'university': 'GTVT TPHCM'}\n"
     ]
    }
   ],
   "source": [
    "# Tạo dict bằng dấu ngoặc nhọn\n",
    "student = {\"name\": \"Sơn\", \"age\": 17, \"university\": \"GTVT TPHCM\"}\n",
    "print(student)  # Output: {'name': 'Sơn', 'age': 21, 'university': 'GTVT TPHCM'}\n",
    "\n",
    "# Tạo dict bằng hàm dict()\n",
    "another_student = dict(name=\"Hùng\", age=22, university=\"GTVT TPHCM\")\n",
    "print(another_student)  "
   ]
  },
  {
   "cell_type": "code",
   "execution_count": 17,
   "metadata": {},
   "outputs": [
    {
     "name": "stdout",
     "output_type": "stream",
     "text": [
      "Sơn\n",
      "17\n"
     ]
    }
   ],
   "source": [
    "print(student[\"name\"])  \n",
    "print(student[\"age\"])  "
   ]
  },
  {
   "cell_type": "markdown",
   "metadata": {},
   "source": [
    "+ Nếu print 1 key không tồn tại sẽ báo lỗi, \n",
    "+ để tránh thông báo lỗi thì dùng `print(name_dict.get())`, nếu key không tồn tại sẽ in ra none"
   ]
  },
  {
   "cell_type": "code",
   "execution_count": 18,
   "metadata": {},
   "outputs": [
    {
     "name": "stdout",
     "output_type": "stream",
     "text": [
      "Sơn\n",
      "None\n"
     ]
    }
   ],
   "source": [
    "print(student.get(\"name\"))\n",
    "print(student.get(\"grade\"))\n"
   ]
  },
  {
   "cell_type": "code",
   "execution_count": 19,
   "metadata": {},
   "outputs": [
    {
     "name": "stdout",
     "output_type": "stream",
     "text": [
      "{'name': 'Sơn', 'age': 22, 'university': 'GTVT TPHCM', 'major': 'Data Science'}\n"
     ]
    }
   ],
   "source": [
    "student[\"age\"] = 22  # Sửa giá trị\n",
    "student[\"major\"] = \"Data Science\"  # Thêm key mới\n",
    "print(student) "
   ]
  },
  {
   "cell_type": "markdown",
   "metadata": {},
   "source": [
    "+ Dể xóa một key thì có thể dùng `pop()` hoặc `del`"
   ]
  },
  {
   "cell_type": "code",
   "execution_count": 20,
   "metadata": {},
   "outputs": [
    {
     "name": "stdout",
     "output_type": "stream",
     "text": [
      "{'name': 'Sơn', 'age': 22, 'university': 'GTVT TPHCM'}\n",
      "22\n",
      "{'name': 'Sơn', 'university': 'GTVT TPHCM'}\n"
     ]
    }
   ],
   "source": [
    "# Xóa phần tử với del\n",
    "del student[\"major\"]\n",
    "print(student) \n",
    "\n",
    "# Xóa phần tử với .pop()\n",
    "age = student.pop(\"age\")\n",
    "print(age)      \n",
    "print(student)  "
   ]
  },
  {
   "cell_type": "markdown",
   "metadata": {},
   "source": [
    "+ Duyệt qua for để lấy `key`, `value`, or `key-value`"
   ]
  },
  {
   "cell_type": "code",
   "execution_count": 21,
   "metadata": {},
   "outputs": [
    {
     "name": "stdout",
     "output_type": "stream",
     "text": [
      "name Sơn\n",
      "university GTVT TPHCM\n",
      "Sơn\n",
      "GTVT TPHCM\n",
      "name : Sơn\n",
      "university : GTVT TPHCM\n"
     ]
    }
   ],
   "source": [
    "# Duyệt qua các key\n",
    "for key in student:\n",
    "    print(key, student[key])\n",
    "\n",
    "# Duyệt qua các value\n",
    "for value in student.values():\n",
    "    print(value)\n",
    "\n",
    "# Duyệt qua các cặp key-value\n",
    "for key, value in student.items():\n",
    "    print(key, \":\", value)"
   ]
  },
  {
   "cell_type": "markdown",
   "metadata": {},
   "source": [
    "+ `dict.items()` trong dictionary trả về một view object chứa tất cả các cặp key-value trong dictionary dưới dạng các tuple"
   ]
  },
  {
   "cell_type": "code",
   "execution_count": 22,
   "metadata": {},
   "outputs": [
    {
     "name": "stdout",
     "output_type": "stream",
     "text": [
      "dict_items([('name', 'Sơn'), ('age', 21), ('university', 'GTVT TPHCM')])\n"
     ]
    }
   ],
   "source": [
    "student = {\"name\": \"Sơn\", \"age\": 21, \"university\": \"GTVT TPHCM\"}\n",
    "print(student.items())"
   ]
  },
  {
   "cell_type": "code",
   "execution_count": 23,
   "metadata": {},
   "outputs": [],
   "source": [
    "student = {\"name\": \"Sơn\", \"age\": 17, \"university\": \"GTVT TPHCM\"}"
   ]
  },
  {
   "cell_type": "code",
   "execution_count": 24,
   "metadata": {},
   "outputs": [
    {
     "name": "stdout",
     "output_type": "stream",
     "text": [
      "True\n",
      "False\n"
     ]
    }
   ],
   "source": [
    "print(\"name\" in student)  \n",
    "print(\"class\" in student)   "
   ]
  },
  {
   "cell_type": "markdown",
   "metadata": {},
   "source": [
    "#### các phương thức phổ biến của Dictionary\n",
    "+ .keys(): Trả về một view object chứa tất cả các key của dictionary\n",
    "+ .values(): Trả về một view object chứa tất cả các value của dictionary\n",
    "+ .items(): Trả về một view object chứa tất cả các cặp key-value của dictionary\n",
    "+ .update(): Thêm các cặp key-value từ một dictionary khác vào dictionary hiện tại\n",
    "+ .clear(): Xóa hết các phần tử trong dictionary"
   ]
  },
  {
   "cell_type": "code",
   "execution_count": 25,
   "metadata": {},
   "outputs": [
    {
     "name": "stdout",
     "output_type": "stream",
     "text": [
      "dict_keys(['name', 'age', 'university'])\n",
      "dict_values(['Sơn', 17, 'GTVT TPHCM'])\n",
      "dict_items([('name', 'Sơn'), ('age', 17), ('university', 'GTVT TPHCM')])\n",
      "{'name': 'Sơn', 'age': 22, 'university': 'GTVT TPHCM', 'hobbies': ['reading', 'swimming']}\n",
      "{}\n"
     ]
    }
   ],
   "source": [
    "# Lấy tất cả keys, values, items\n",
    "print(student.keys())   \n",
    "print(student.values()) \n",
    "print(student.items())  \n",
    "\n",
    "# Sử dụng update\n",
    "additional_info = {\"age\": 22, \"hobbies\": [\"reading\", \"swimming\"]}\n",
    "student.update(additional_info)\n",
    "print(student) \n",
    "\n",
    "# Xóa hết các phần tử\n",
    "student.clear()\n",
    "print(student)"
   ]
  },
  {
   "cell_type": "code",
   "execution_count": 26,
   "metadata": {},
   "outputs": [
    {
     "name": "stdout",
     "output_type": "stream",
     "text": [
      "Sơn\n"
     ]
    }
   ],
   "source": [
    "# Lồng 2 dict\n",
    "students = {\n",
    "    \"student1\": {\"name\": \"Sơn\", \"age\": 21},\n",
    "    \"student2\": {\"name\": \"Hùng\", \"age\": 22}\n",
    "}\n",
    "print(students[\"student1\"][\"name\"]) "
   ]
  },
  {
   "cell_type": "markdown",
   "metadata": {},
   "source": [
    "+ Giống với list, có thể dùng dictionary comprehension để tạo một dictionary mới từ một iterable."
   ]
  },
  {
   "cell_type": "code",
   "execution_count": 27,
   "metadata": {},
   "outputs": [
    {
     "name": "stdout",
     "output_type": "stream",
     "text": [
      "{0: 0, 1: 1, 2: 4, 3: 9, 4: 16}\n"
     ]
    }
   ],
   "source": [
    "squares = {x: x*x for x in range(5)}\n",
    "print(squares) "
   ]
  },
  {
   "cell_type": "markdown",
   "metadata": {},
   "source": [
    "+ `Counter` là một dictionary đặc biệt dùng để đếm số lần xuất hiện của các phần tử trong một iterable."
   ]
  },
  {
   "cell_type": "code",
   "execution_count": null,
   "metadata": {},
   "outputs": [
    {
     "name": "stdout",
     "output_type": "stream",
     "text": [
      "Counter({'apple': 3, 'banana': 2, 'orange': 1})\n"
     ]
    }
   ],
   "source": [
    "from collections import Counter\n",
    "\n",
    "fruits = [\"apple\", \"banana\", \"apple\", \"orange\", \"banana\", \"apple\"]\n",
    "fruit_count = Counter(fruits)\n",
    "print(fruit_count) "
   ]
  },
  {
   "cell_type": "code",
   "execution_count": 31,
   "metadata": {},
   "outputs": [],
   "source": [
    "student = {\"name\": \"Sơn\", \"age\": 17, \"university\": \"GTVT TPHCM\"}"
   ]
  },
  {
   "cell_type": "code",
   "execution_count": 32,
   "metadata": {},
   "outputs": [
    {
     "name": "stdout",
     "output_type": "stream",
     "text": [
      "3\n",
      "['age', 'name', 'university']\n"
     ]
    }
   ],
   "source": [
    "# Đếm số phần tử trong dictionary\n",
    "print(len(student))\n",
    "\n",
    "# Sắp xếp các key trong dictionary\n",
    "print(sorted(student))"
   ]
  },
  {
   "cell_type": "code",
   "execution_count": 33,
   "metadata": {},
   "outputs": [
    {
     "name": "stdout",
     "output_type": "stream",
     "text": [
      "{'name': 'Sơn', 'age': 17, 'university': 'GTVT TPHCM'}\n",
      "{'name': 'Sơn', 'age': 18, 'university': 'GTVT TPHCM'}\n"
     ]
    }
   ],
   "source": [
    "student_dict = student.copy()\n",
    "student_dict[\"age\"] = 18\n",
    "print(student)  \n",
    "print(student_dict)  \n"
   ]
  }
 ],
 "metadata": {
  "kernelspec": {
   "display_name": "Python 3",
   "language": "python",
   "name": "python3"
  },
  "language_info": {
   "codemirror_mode": {
    "name": "ipython",
    "version": 3
   },
   "file_extension": ".py",
   "mimetype": "text/x-python",
   "name": "python",
   "nbconvert_exporter": "python",
   "pygments_lexer": "ipython3",
   "version": "3.13.0"
  }
 },
 "nbformat": 4,
 "nbformat_minor": 2
}
